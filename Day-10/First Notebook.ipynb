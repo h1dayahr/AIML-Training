{
 "cells": [
  {
   "cell_type": "markdown",
   "id": "a22397ac-e46b-4939-9e8e-1698a3291c4f",
   "metadata": {},
   "source": [
    "# First Notebook\n",
    "## Steps to Print a Single Line\n",
    "    We will Create Code Cell\n",
    "    We will Write Print Command\n",
    "    We will Run the cell"
   ]
  },
  {
   "cell_type": "code",
   "execution_count": 2,
   "id": "52c8463d-4493-48f7-8114-cd60bdba05d9",
   "metadata": {},
   "outputs": [
    {
     "name": "stdout",
     "output_type": "stream",
     "text": [
      "Welcome to Python Notebook\n"
     ]
    }
   ],
   "source": [
    "print('Welcome to Python Notebook')"
   ]
  },
  {
   "cell_type": "markdown",
   "id": "1deb8050-7457-4a1c-9f48-ef465dca6bfd",
   "metadata": {},
   "source": [
    "## Loop Example:"
   ]
  },
  {
   "cell_type": "code",
   "execution_count": 3,
   "id": "c5140bda-b4fa-4df5-be01-a0ba4b29e9c6",
   "metadata": {},
   "outputs": [
    {
     "name": "stdout",
     "output_type": "stream",
     "text": [
      "1\t2\t3\t4\t5\t6\t7\t8\t9\t10\t11\t12\t13\t14\t15\t16\t17\t18\t19\t20\t21\t22\t23\t24\t25\t26\t27\t28\t29\t30\t31\t32\t33\t34\t35\t36\t37\t38\t39\t40\t41\t42\t43\t44\t45\t46\t47\t48\t49\t50\t51\t52\t53\t54\t55\t56\t57\t58\t59\t60\t61\t62\t63\t64\t65\t66\t67\t68\t69\t70\t71\t72\t73\t74\t75\t76\t77\t78\t79\t80\t81\t82\t83\t84\t85\t86\t87\t88\t89\t90\t91\t92\t93\t94\t95\t96\t97\t98\t99\t100\t"
     ]
    }
   ],
   "source": [
    "for num in range(1,101):\n",
    "    print(num, end=\"\\t\")"
   ]
  },
  {
   "cell_type": "code",
   "execution_count": 13,
   "id": "48616256-3dd7-4be1-8bda-7a8187880628",
   "metadata": {},
   "outputs": [],
   "source": [
    "players=('Joe Alwyn','Cole Sprouse','Timothee Chalamet','Dylan Obrien')"
   ]
  },
  {
   "cell_type": "code",
   "execution_count": 14,
   "id": "a92254a3-3177-4a90-b6f8-ae3d4de50045",
   "metadata": {},
   "outputs": [
    {
     "name": "stdout",
     "output_type": "stream",
     "text": [
      "Joe Alwyn\n",
      "Cole Sprouse\n",
      "Timothee Chalamet\n",
      "Dylan Obrien\n"
     ]
    }
   ],
   "source": [
    "for player in players:\n",
    "    print(player)"
   ]
  },
  {
   "cell_type": "code",
   "execution_count": 2,
   "id": "3453dd70-0ada-43b5-ba1d-9b4938d3c87a",
   "metadata": {},
   "outputs": [
    {
     "name": "stdout",
     "output_type": "stream",
     "text": [
      "Dd will get a job with 3.5k starting\n"
     ]
    }
   ],
   "source": [
    "print('Dd will get a job with 3.5k starting')"
   ]
  },
  {
   "cell_type": "code",
   "execution_count": null,
   "id": "34059743-b9e1-4db8-9b8b-1a73c6f8cf33",
   "metadata": {},
   "outputs": [],
   "source": [
    "print('Welcome Again')\n",
    "print('Dd coolest being')"
   ]
  },
  {
   "cell_type": "code",
   "execution_count": null,
   "id": "d6232ae8-2002-4b66-9e66-3bcc24aed468",
   "metadata": {},
   "outputs": [],
   "source": []
  }
 ],
 "metadata": {
  "kernelspec": {
   "display_name": "Python 3 (ipykernel)",
   "language": "python",
   "name": "python3"
  },
  "language_info": {
   "codemirror_mode": {
    "name": "ipython",
    "version": 3
   },
   "file_extension": ".py",
   "mimetype": "text/x-python",
   "name": "python",
   "nbconvert_exporter": "python",
   "pygments_lexer": "ipython3",
   "version": "3.13.5"
  }
 },
 "nbformat": 4,
 "nbformat_minor": 5
}
