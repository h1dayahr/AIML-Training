{
 "cells": [
  {
   "cell_type": "code",
   "execution_count": 1,
   "id": "c033856e-12ac-4394-ba7e-365276de9b99",
   "metadata": {},
   "outputs": [],
   "source": [
    "import pandas as pd\n",
    "import numpy as np"
   ]
  },
  {
   "cell_type": "code",
   "execution_count": 2,
   "id": "28e8bf89-c9a4-455b-a4ce-192074cef706",
   "metadata": {},
   "outputs": [
    {
     "name": "stdout",
     "output_type": "stream",
     "text": [
      "    Name  Age  Marks\n",
      "0   John   20     85\n",
      "1  Alice   22     90\n",
      "2    Bob   21     78\n",
      "3   Sara   23     92\n",
      "4    Sam   25     90\n",
      "5  Rohit   23     45\n"
     ]
    }
   ],
   "source": [
    "df=pd.read_excel('students.xlsx')\n",
    "print(df)"
   ]
  },
  {
   "cell_type": "code",
   "execution_count": 6,
   "id": "fe9c730c-5369-41e4-bf77-4bc089e38831",
   "metadata": {},
   "outputs": [
    {
     "name": "stdout",
     "output_type": "stream",
     "text": [
      "NumPy Array of Marks: \t \n",
      "[85 90 78 92 90 45]\n"
     ]
    }
   ],
   "source": [
    "marks=df['Marks'].to_numpy()\n",
    "print('NumPy Array of Marks: \\t ')\n",
    "print(marks)"
   ]
  },
  {
   "cell_type": "code",
   "execution_count": 8,
   "id": "d23aee9f-1ed6-4dbc-a37f-1ad8bdd45c54",
   "metadata": {},
   "outputs": [
    {
     "name": "stdout",
     "output_type": "stream",
     "text": [
      "Highest Marks: \t  92\n"
     ]
    }
   ],
   "source": [
    "print('Highest Marks: \\t ',np.max(marks))"
   ]
  },
  {
   "cell_type": "code",
   "execution_count": 9,
   "id": "feb7d259-f987-49ae-8014-8bfbba647388",
   "metadata": {},
   "outputs": [
    {
     "name": "stdout",
     "output_type": "stream",
     "text": [
      "Lowest Marks: \t  45\n"
     ]
    }
   ],
   "source": [
    "print('Lowest Marks: \\t ',np.min(marks))"
   ]
  },
  {
   "cell_type": "code",
   "execution_count": 10,
   "id": "73fb37ab-560e-497d-837d-8a179fba2279",
   "metadata": {},
   "outputs": [
    {
     "name": "stdout",
     "output_type": "stream",
     "text": [
      "Average Marks: \t  80.0\n"
     ]
    }
   ],
   "source": [
    "print('Average Marks: \\t ',np.mean(marks))"
   ]
  },
  {
   "cell_type": "markdown",
   "id": "cce9a0e5-8e7f-4a8b-998b-1682f48419c9",
   "metadata": {},
   "source": [
    "### .loc: Label Based\n",
    "### .iloc: Index Based"
   ]
  },
  {
   "cell_type": "code",
   "execution_count": 12,
   "id": "f2c762c2-21ea-4778-8359-e1bdabdb8789",
   "metadata": {},
   "outputs": [
    {
     "name": "stdout",
     "output_type": "stream",
     "text": [
      "Original Dataframe: \t \n",
      "    Name  Age  Marks\n",
      "0   John   20     85\n",
      "1  Alice   22     90\n",
      "2    Bob   21     78\n",
      "3   Sara   23     92\n",
      "4    Sam   25     90\n",
      "5  Rohit   23     45\n",
      "\n",
      "Location: Label Based\n",
      "Name     Bob\n",
      "Age       21\n",
      "Marks     78\n",
      "Name: 2, dtype: object\n"
     ]
    }
   ],
   "source": [
    "print('Original Dataframe: \\t ')\n",
    "print(df)\n",
    "print()\n",
    "print('Location: Label Based')\n",
    "print(df.loc[2])"
   ]
  },
  {
   "cell_type": "code",
   "execution_count": 13,
   "id": "ce4aa29c-cd49-4166-8e88-6f8133f6454f",
   "metadata": {},
   "outputs": [
    {
     "name": "stdout",
     "output_type": "stream",
     "text": [
      "Original Dataframe: \t \n",
      "    Name  Age  Marks\n",
      "0   John   20     85\n",
      "1  Alice   22     90\n",
      "2    Bob   21     78\n",
      "3   Sara   23     92\n",
      "4    Sam   25     90\n",
      "5  Rohit   23     45\n",
      "\n",
      "Location: Label Based\n",
      "Name     Sam\n",
      "Age       25\n",
      "Marks     90\n",
      "Name: 4, dtype: object\n"
     ]
    }
   ],
   "source": [
    "print('Original Dataframe: \\t ')\n",
    "print(df)\n",
    "print()\n",
    "print('Location: Label Based')\n",
    "print(df.loc[4])"
   ]
  },
  {
   "cell_type": "code",
   "execution_count": 14,
   "id": "951fcc8c-27f4-4cda-a23c-594df32b1830",
   "metadata": {},
   "outputs": [
    {
     "name": "stdout",
     "output_type": "stream",
     "text": [
      "Original Dataframe: \t \n",
      "    Name  Age  Marks\n",
      "0   John   20     85\n",
      "1  Alice   22     90\n",
      "2    Bob   21     78\n",
      "3   Sara   23     92\n",
      "4    Sam   25     90\n",
      "5  Rohit   23     45\n",
      "\n",
      "Location: Label Based\n",
      "Name     John\n",
      "Age        20\n",
      "Marks      85\n",
      "Name: 0, dtype: object\n"
     ]
    }
   ],
   "source": [
    "print('Original Dataframe: \\t ')\n",
    "print(df)\n",
    "print()\n",
    "print('Location: Label Based')\n",
    "print(df.loc[0])"
   ]
  },
  {
   "cell_type": "code",
   "execution_count": 15,
   "id": "ba2d8537-8b46-4ce0-8fa7-8ac4012c39f7",
   "metadata": {},
   "outputs": [
    {
     "name": "stdout",
     "output_type": "stream",
     "text": [
      "Original Dataframe: \t \n",
      "    Name  Age  Marks\n",
      "0   John   20     85\n",
      "1  Alice   22     90\n",
      "2    Bob   21     78\n",
      "3   Sara   23     92\n",
      "4    Sam   25     90\n",
      "5  Rohit   23     45\n",
      "\n",
      "Location: Label Based\n",
      "Name     Sam\n",
      "Age       25\n",
      "Marks     90\n",
      "Name: 4, dtype: object ['Name']\n"
     ]
    }
   ],
   "source": [
    "print('Original Dataframe: \\t ')\n",
    "print(df)\n",
    "print()\n",
    "print('Location: Label Based')\n",
    "print(df.loc[4],['Name'])"
   ]
  },
  {
   "cell_type": "code",
   "execution_count": 16,
   "id": "5d141524-262c-4cc4-8f3a-52e251c89898",
   "metadata": {},
   "outputs": [
    {
     "name": "stdout",
     "output_type": "stream",
     "text": [
      "Original Dataframe: \t \n",
      "    Name  Age  Marks\n",
      "0   John   20     85\n",
      "1  Alice   22     90\n",
      "2    Bob   21     78\n",
      "3   Sara   23     92\n",
      "4    Sam   25     90\n",
      "5  Rohit   23     45\n",
      "\n",
      "Location: Label Based\n",
      "Name     Sam\n",
      "Marks     90\n",
      "Name: 4, dtype: object\n"
     ]
    }
   ],
   "source": [
    "print('Original Dataframe: \\t ')\n",
    "print(df)\n",
    "print()\n",
    "print('Location: Label Based')\n",
    "print(df.loc[4,['Name','Marks']])"
   ]
  },
  {
   "cell_type": "code",
   "execution_count": 18,
   "id": "6ee50820-3113-41e8-9c57-ef9fdc087aad",
   "metadata": {},
   "outputs": [
    {
     "name": "stdout",
     "output_type": "stream",
     "text": [
      "Original Dataframe: \t \n",
      "    Name  Age  Marks\n",
      "0   John   20     85\n",
      "1  Alice   22     90\n",
      "2    Bob   21     78\n",
      "3   Sara   23     92\n",
      "4    Sam   25     90\n",
      "5  Rohit   23     45\n",
      "\n",
      "Location: Index Based\n",
      "Age      21\n",
      "Marks    78\n",
      "Name: 2, dtype: object\n"
     ]
    }
   ],
   "source": [
    "print('Original Dataframe: \\t ')\n",
    "print(df)\n",
    "print()\n",
    "print('Location: Index Based')\n",
    "print(df.iloc[2,[1,2]])"
   ]
  },
  {
   "cell_type": "markdown",
   "id": "6e51d861-9a0d-42c2-914f-36875e0df2be",
   "metadata": {},
   "source": [
    "### Axis in NumPy:\n",
    "   1. Axis 0: Vertical Direction; Works Column-Wise\n",
    "   2. Axis 1: Horizontal Direction; Works Row-Wise"
   ]
  },
  {
   "cell_type": "markdown",
   "id": "7a345983-9509-461b-9f60-c4d040891e6b",
   "metadata": {},
   "source": [
    "### Two Students Marks in 3 Subjects\n",
    "    [[45,50,49],[30,45,49]]"
   ]
  },
  {
   "cell_type": "code",
   "execution_count": 19,
   "id": "a1331519-f921-4e4c-bbbe-57bb92dee14f",
   "metadata": {},
   "outputs": [
    {
     "name": "stdout",
     "output_type": "stream",
     "text": [
      "[[ 5  2  9]\n",
      " [10 40 60]]\n"
     ]
    }
   ],
   "source": [
    "marks_arr=np.array([[5,2,9],[10,40,60]])\n",
    "print(marks_arr)"
   ]
  },
  {
   "cell_type": "code",
   "execution_count": 20,
   "id": "256c5496-65a6-4f9c-b9e9-232f2ec8db8f",
   "metadata": {},
   "outputs": [
    {
     "name": "stdout",
     "output_type": "stream",
     "text": [
      "Sum Down Each Column: \t  [15 42 69]\n"
     ]
    }
   ],
   "source": [
    "print('Sum Down Each Column: \\t ',np.sum(marks_arr,axis=0))"
   ]
  },
  {
   "cell_type": "code",
   "execution_count": 21,
   "id": "e40d40a5-d6bd-4e4e-bb2e-ddbc973cd402",
   "metadata": {},
   "outputs": [
    {
     "name": "stdout",
     "output_type": "stream",
     "text": [
      "Sum Down Each Row [ 16 110]\n"
     ]
    }
   ],
   "source": [
    "print('Sum Down Each Row',np.sum(marks_arr,axis=1))"
   ]
  },
  {
   "cell_type": "code",
   "execution_count": 24,
   "id": "bb743f7f-4994-42d3-990e-0370b318dffa",
   "metadata": {},
   "outputs": [
    {
     "name": "stdout",
     "output_type": "stream",
     "text": [
      "NumPy Array of Marks: \t \n",
      "\n",
      "[85 90 78 92 90 45]\n"
     ]
    }
   ],
   "source": [
    "print('NumPy Array of Marks: \\t ')\n",
    "print()\n",
    "print(marks)"
   ]
  },
  {
   "cell_type": "code",
   "execution_count": 25,
   "id": "19278085-d992-4563-a960-74c872fb88cd",
   "metadata": {},
   "outputs": [
    {
     "name": "stdout",
     "output_type": "stream",
     "text": [
      "    Name  Age  Marks\n",
      "0   John   20     85\n",
      "1  Alice   22     90\n",
      "2    Bob   21     78\n",
      "3   Sara   23     92\n",
      "4    Sam   25     90\n",
      "5  Rohit   23     45\n"
     ]
    }
   ],
   "source": [
    "print(df)"
   ]
  },
  {
   "cell_type": "markdown",
   "id": "78bd8748-f790-40e6-b8aa-5e6ca204f453",
   "metadata": {},
   "source": [
    "#### Find The Student Name Who Got Highest Marks"
   ]
  },
  {
   "cell_type": "code",
   "execution_count": 26,
   "id": "96d697a6-e9cf-4b11-9538-1db38a5147cc",
   "metadata": {},
   "outputs": [
    {
     "name": "stdout",
     "output_type": "stream",
     "text": [
      "Sara\n"
     ]
    }
   ],
   "source": [
    "topper=df.loc[df['Marks'].idxmax(),'Name']\n",
    "print(topper)"
   ]
  },
  {
   "cell_type": "code",
   "execution_count": 27,
   "id": "ded75c48-d508-40ef-88a1-603cd2f88c04",
   "metadata": {},
   "outputs": [
    {
     "name": "stdout",
     "output_type": "stream",
     "text": [
      "Rohit\n"
     ]
    }
   ],
   "source": [
    "lastinclass=df.loc[df['Marks'].idxmin(),'Name']\n",
    "print(lastinclass)"
   ]
  },
  {
   "cell_type": "code",
   "execution_count": 28,
   "id": "5bfbd263-8f72-4f7d-865a-44fe57d886b1",
   "metadata": {},
   "outputs": [
    {
     "name": "stdout",
     "output_type": "stream",
     "text": [
      "Next Example: \t \n"
     ]
    }
   ],
   "source": [
    "print('Next Example: \\t ')"
   ]
  },
  {
   "cell_type": "code",
   "execution_count": 29,
   "id": "b77a30ab-fe81-4bfb-a4cb-a854126c47fb",
   "metadata": {},
   "outputs": [
    {
     "name": "stdout",
     "output_type": "stream",
     "text": [
      "Topper of The Class is: \t  Sara\n"
     ]
    }
   ],
   "source": [
    "top_index=df['Marks'].idxmax()\n",
    "top_students=df.iloc[top_index,df.columns.get_loc('Name')]\n",
    "print('Topper of The Class is: \\t ',top_students)"
   ]
  }
 ],
 "metadata": {
  "kernelspec": {
   "display_name": "Python 3 (ipykernel)",
   "language": "python",
   "name": "python3"
  },
  "language_info": {
   "codemirror_mode": {
    "name": "ipython",
    "version": 3
   },
   "file_extension": ".py",
   "mimetype": "text/x-python",
   "name": "python",
   "nbconvert_exporter": "python",
   "pygments_lexer": "ipython3",
   "version": "3.13.5"
  }
 },
 "nbformat": 4,
 "nbformat_minor": 5
}
