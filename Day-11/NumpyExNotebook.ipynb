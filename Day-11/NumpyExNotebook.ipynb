{
 "cells": [
  {
   "cell_type": "markdown",
   "id": "1a175e95-e632-495a-aea7-e5aeaf75a9bd",
   "metadata": {},
   "source": [
    "## Numpy Introduction and  Usage"
   ]
  },
  {
   "cell_type": "markdown",
   "id": "2408076c-b46a-496f-a979-8614f603cdf9",
   "metadata": {},
   "source": [
    "## 1. One Dimensional Array (1-D)"
   ]
  },
  {
   "cell_type": "code",
   "execution_count": 1,
   "id": "79be7f6f-4d12-4f24-b032-6870ddc71649",
   "metadata": {},
   "outputs": [],
   "source": [
    "import numpy as np"
   ]
  },
  {
   "cell_type": "code",
   "execution_count": 2,
   "id": "82522004-0d59-4763-a6cf-6ccda1d03eb5",
   "metadata": {},
   "outputs": [],
   "source": [
    "array1=np.array([10,20,30,40,50])"
   ]
  },
  {
   "cell_type": "code",
   "execution_count": 3,
   "id": "1aaf6d42-e63f-4565-be99-0de170a73018",
   "metadata": {},
   "outputs": [
    {
     "name": "stdout",
     "output_type": "stream",
     "text": [
      "[10 20 30 40 50]\n"
     ]
    }
   ],
   "source": [
    "print(array1)"
   ]
  },
  {
   "cell_type": "markdown",
   "id": "35a35a3d-a0be-4dcc-a8fe-6dbf4dffb7ae",
   "metadata": {},
   "source": [
    "## 2. Two Dimensional Array (2-D)"
   ]
  },
  {
   "cell_type": "code",
   "execution_count": 4,
   "id": "b64f2022-7410-41a2-a54e-bce4de0174c1",
   "metadata": {},
   "outputs": [],
   "source": [
    "array_two=np.array([[10,20,30],[40,50,60]])"
   ]
  },
  {
   "cell_type": "code",
   "execution_count": 5,
   "id": "84c39e01-c821-4aee-9e79-3a59c1d0fa96",
   "metadata": {},
   "outputs": [
    {
     "name": "stdout",
     "output_type": "stream",
     "text": [
      "[[10 20 30]\n",
      " [40 50 60]]\n"
     ]
    }
   ],
   "source": [
    "print(array_two)"
   ]
  },
  {
   "cell_type": "markdown",
   "id": "8735a87f-eca8-47b2-8727-55d6e907ad60",
   "metadata": {},
   "source": [
    "## 3. Three Dimensional Array (3-D Array)"
   ]
  },
  {
   "cell_type": "code",
   "execution_count": 6,
   "id": "7ca36914-947f-461e-b61a-0c3702ede921",
   "metadata": {},
   "outputs": [],
   "source": [
    "array_three=np.array([[[10,20,30],[40,50,60]],[[10,20,30],[40,50,70]]])"
   ]
  },
  {
   "cell_type": "code",
   "execution_count": 7,
   "id": "11dec54b-97f8-49bd-aded-c4a43f0da137",
   "metadata": {},
   "outputs": [
    {
     "name": "stdout",
     "output_type": "stream",
     "text": [
      "[[[10 20 30]\n",
      "  [40 50 60]]\n",
      "\n",
      " [[10 20 30]\n",
      "  [40 50 70]]]\n"
     ]
    }
   ],
   "source": [
    "print(array_three)"
   ]
  },
  {
   "cell_type": "markdown",
   "id": "450437ff-4d74-486b-8a61-453599879f07",
   "metadata": {},
   "source": [
    "## Find Out Dimension of NumPy Array"
   ]
  },
  {
   "cell_type": "code",
   "execution_count": 8,
   "id": "cbd5d58b-d2ad-4cd8-b768-682298aa5996",
   "metadata": {},
   "outputs": [
    {
     "name": "stdout",
     "output_type": "stream",
     "text": [
      "First Array Dimension: \t  1\n"
     ]
    }
   ],
   "source": [
    "print('First Array Dimension: \\t ',array1.ndim)"
   ]
  },
  {
   "cell_type": "code",
   "execution_count": 9,
   "id": "afd1cd94-68c7-4160-96a4-37a4d9953e7d",
   "metadata": {},
   "outputs": [
    {
     "name": "stdout",
     "output_type": "stream",
     "text": [
      "Second Array Dimension: \t  2\n"
     ]
    }
   ],
   "source": [
    "print('Second Array Dimension: \\t ',array_two.ndim)"
   ]
  },
  {
   "cell_type": "code",
   "execution_count": 10,
   "id": "a5271059-0aac-4731-b9b7-7e3129d250e4",
   "metadata": {},
   "outputs": [
    {
     "name": "stdout",
     "output_type": "stream",
     "text": [
      "Third Array Dimension: \t  3\n"
     ]
    }
   ],
   "source": [
    "print('Third Array Dimension: \\t ',array_three.ndim)"
   ]
  },
  {
   "cell_type": "markdown",
   "id": "5a70997c-1ea3-4ae3-93b7-1e1660e052e3",
   "metadata": {},
   "source": [
    "## Write An Array of 5 Students Marks using Numpy\n",
    "   ### Marks: 80,70,75,99,89"
   ]
  },
  {
   "cell_type": "code",
   "execution_count": 11,
   "id": "6d499196-59b2-4f48-b2e9-efc36acedd0a",
   "metadata": {},
   "outputs": [],
   "source": [
    "marks=np.array([80,70,75,99,89])"
   ]
  },
  {
   "cell_type": "code",
   "execution_count": 13,
   "id": "bad741f6-2107-4978-a548-1a3ac3b78ce1",
   "metadata": {},
   "outputs": [
    {
     "name": "stdout",
     "output_type": "stream",
     "text": [
      "Array of Marks: \t  [80 70 75 99 89]\n"
     ]
    }
   ],
   "source": [
    "print('Array of Marks: \\t ',marks)"
   ]
  },
  {
   "cell_type": "code",
   "execution_count": 14,
   "id": "f0b31a3f-9773-4d3a-bcad-9596c2be260b",
   "metadata": {},
   "outputs": [
    {
     "name": "stdout",
     "output_type": "stream",
     "text": [
      "[80 70 75 99 89]\n"
     ]
    }
   ],
   "source": [
    "print(marks)"
   ]
  },
  {
   "cell_type": "markdown",
   "id": "b5d60178-dd9b-4aba-bde8-15ab00f4e843",
   "metadata": {},
   "source": [
    "## Write an Array to take Marks of 5 Students in 3 Subjects using NumPy\n",
    "### Maths, English, Chemistry\n",
    "#### [[50,45,49],[40,42,45],[35,40,46],[39,40,45][48,40,40]]"
   ]
  },
  {
   "cell_type": "code",
   "execution_count": 18,
   "id": "34f04044-a368-49ac-b426-94688d3a670c",
   "metadata": {},
   "outputs": [
    {
     "name": "stdout",
     "output_type": "stream",
     "text": [
      "2 D Array Example\n",
      "[[50 45 49]\n",
      " [40 42 45]\n",
      " [35 40 46]\n",
      " [39 40 45]\n",
      " [48 40 40]]\n"
     ]
    }
   ],
   "source": [
    "marks_subject=np.array([[50,45,49],[40,42,45],[35,40,46],[39,40,45],[48,40,40]])\n",
    "print('2 D Array Example')\n",
    "print(marks_subject)"
   ]
  },
  {
   "cell_type": "markdown",
   "id": "14271fbf-b3e5-4602-b339-ff8b90204d55",
   "metadata": {},
   "source": [
    "## Write an Array: Take Marks of 4 Students in 3 Subjects for Two Semester using Numpy\n",
    "    ### Maths, English, Chemistry\n",
    "    #### Students Name: Dd, Irfan, Damian, Max\n",
    "    #### Two Semester : Sem1, Sem2\n",
    "        #### 4*3*2\n",
    "        #### [[[85,88],[78,82],[90,95]], [[76,70],[40,45],[90,95]], [[80,86],[78,82],[90,95]], [[85,88],[78,82],[70,90]]"
   ]
  },
  {
   "cell_type": "code",
   "execution_count": 20,
   "id": "eb5ef542-55f6-41a3-9b15-9ce064523b35",
   "metadata": {},
   "outputs": [],
   "source": [
    "marks_subject_sem=np.array([\n",
    "    [[85,88],[78,82],[90,95]], \n",
    "    [[76,70],[40,45],[90,95]], \n",
    "    [[80,86],[78,82],[90,95]], \n",
    "    [[85,88],[78,82],[70,90]]\n",
    "                           ])"
   ]
  },
  {
   "cell_type": "code",
   "execution_count": 22,
   "id": "19b62112-2d5c-4fdd-bf4f-e90307dfb24c",
   "metadata": {},
   "outputs": [
    {
     "name": "stdout",
     "output_type": "stream",
     "text": [
      "[[[85 88]\n",
      "  [78 82]\n",
      "  [90 95]]\n",
      "\n",
      " [[76 70]\n",
      "  [40 45]\n",
      "  [90 95]]\n",
      "\n",
      " [[80 86]\n",
      "  [78 82]\n",
      "  [90 95]]\n",
      "\n",
      " [[85 88]\n",
      "  [78 82]\n",
      "  [70 90]]]\n"
     ]
    }
   ],
   "source": [
    "print(marks_subject_sem)"
   ]
  },
  {
   "cell_type": "markdown",
   "id": "b71c7540-fbaf-4c37-be11-2c1515cce76b",
   "metadata": {},
   "source": [
    "## Write an Array: Take Weather of 2 Cities in 3 Days for Three Times in a Day; Morning, Noon, Evening\n",
    "#### Cities Names: Kuala Lumpur, Edinburgh\n",
    "#### Saturday, Sunday, Monday\n",
    "#### Three Time Slot: Morning, Noon, Evening\n",
    "### Create 3-D Array for this Using Numpy and Print it"
   ]
  },
  {
   "cell_type": "code",
   "execution_count": 24,
   "id": "17550bb2-0a8a-4e3a-9783-e39813476f25",
   "metadata": {},
   "outputs": [],
   "source": [
    "weather=np.array([[\n",
    "    [25,33,27], \n",
    "    [26,32,30],\n",
    "    [26,31,25]],\n",
    "                 [\n",
    "    [12,15,18],\n",
    "    [11,18,13],\n",
    "    [12,14,18]]])"
   ]
  },
  {
   "cell_type": "code",
   "execution_count": 25,
   "id": "fd239787-e6ba-475b-9f9e-b39327260cfe",
   "metadata": {},
   "outputs": [
    {
     "name": "stdout",
     "output_type": "stream",
     "text": [
      "Datas Weather (C): \t \n",
      "[[[25 33 27]\n",
      "  [26 32 30]\n",
      "  [26 31 25]]\n",
      "\n",
      " [[12 15 18]\n",
      "  [11 18 13]\n",
      "  [12 14 18]]]\n"
     ]
    }
   ],
   "source": [
    "print('Datas Weather (C): \\t ')\n",
    "print(weather)"
   ]
  },
  {
   "cell_type": "code",
   "execution_count": 26,
   "id": "87ab8bee-14f9-4645-8f8b-50d3444f42b0",
   "metadata": {},
   "outputs": [],
   "source": [
    "cities=[\"Kuala Lumpur\", \"Edinburgh\"]\n",
    "days=[\"Saturday\", \"Sunday\", \"Monday\"]\n",
    "times=[\"Morning\", \"Noon\", \"Evening\"]"
   ]
  },
  {
   "cell_type": "code",
   "execution_count": 27,
   "id": "793ff3f3-f839-4a69-b273-81f3d97b6c1e",
   "metadata": {},
   "outputs": [
    {
     "name": "stdout",
     "output_type": "stream",
     "text": [
      "\n",
      "Detailed Weather Data:\n",
      "\n",
      "City: Kuala Lumpur\n",
      "  Saturday: Morning=25°C, Noon=33°C, Evening=27°C\n",
      "  Sunday: Morning=26°C, Noon=32°C, Evening=30°C\n",
      "  Monday: Morning=26°C, Noon=31°C, Evening=25°C\n",
      "\n",
      "City: Edinburgh\n",
      "  Saturday: Morning=12°C, Noon=15°C, Evening=18°C\n",
      "  Sunday: Morning=11°C, Noon=18°C, Evening=13°C\n",
      "  Monday: Morning=12°C, Noon=14°C, Evening=18°C\n"
     ]
    }
   ],
   "source": [
    "print(\"\\nDetailed Weather Data:\")\n",
    "for i, city in enumerate(cities):\n",
    "    print(f\"\\nCity: {city}\")\n",
    "    for j, day in enumerate(days):\n",
    "        print(f\"  {day}: Morning={weather[i][j][0]}°C, Noon={weather[i][j][1]}°C, Evening={weather[i][j][2]}°C\")"
   ]
  },
  {
   "cell_type": "code",
   "execution_count": 28,
   "id": "dabd4afd-0ebd-4fc0-b31c-adb46587903e",
   "metadata": {},
   "outputs": [
    {
     "name": "stdout",
     "output_type": "stream",
     "text": [
      "[10 20 30 40 50]\n"
     ]
    }
   ],
   "source": [
    "print(array1)"
   ]
  },
  {
   "cell_type": "code",
   "execution_count": 29,
   "id": "9aaf72f4-821a-422e-b4e2-1d3e0c0db253",
   "metadata": {},
   "outputs": [
    {
     "name": "stdout",
     "output_type": "stream",
     "text": [
      "Shape of Array1: \t  (5,)\n"
     ]
    }
   ],
   "source": [
    "print('Shape of Array1: \\t ',array1.shape)"
   ]
  },
  {
   "cell_type": "code",
   "execution_count": 30,
   "id": "beec32b1-10c4-4fca-a45f-6ad873aea805",
   "metadata": {},
   "outputs": [
    {
     "name": "stdout",
     "output_type": "stream",
     "text": [
      "Size of Array1: \t  5\n"
     ]
    }
   ],
   "source": [
    "print('Size of Array1: \\t ',array1.size)"
   ]
  },
  {
   "cell_type": "code",
   "execution_count": 31,
   "id": "004ad799-b1d2-48af-8851-6b64f5fe44df",
   "metadata": {},
   "outputs": [
    {
     "name": "stdout",
     "output_type": "stream",
     "text": [
      "Data Type: \t  int64\n"
     ]
    }
   ],
   "source": [
    "print('Data Type: \\t ',array1.dtype)"
   ]
  },
  {
   "cell_type": "code",
   "execution_count": 32,
   "id": "7515c80f-6e51-4783-aad0-325d5adfc090",
   "metadata": {},
   "outputs": [],
   "source": [
    "students=np.array(['Dd','Irfan','Joe','Maxton'])"
   ]
  },
  {
   "cell_type": "code",
   "execution_count": 33,
   "id": "aff32eac-4751-4a72-8935-8f30fb59cbd9",
   "metadata": {},
   "outputs": [
    {
     "name": "stdout",
     "output_type": "stream",
     "text": [
      "['Dd' 'Irfan' 'Joe' 'Maxton']\n"
     ]
    }
   ],
   "source": [
    "print(students)"
   ]
  },
  {
   "cell_type": "code",
   "execution_count": 34,
   "id": "7770364b-86cd-4c6f-a8a4-1165814d74ee",
   "metadata": {},
   "outputs": [
    {
     "name": "stdout",
     "output_type": "stream",
     "text": [
      "Shape of Array: \t  (4,)\n"
     ]
    }
   ],
   "source": [
    "print('Shape of Array: \\t ',students.shape)"
   ]
  },
  {
   "cell_type": "code",
   "execution_count": 35,
   "id": "212ca147-07da-499f-bd9f-9b7cc0f75ded",
   "metadata": {},
   "outputs": [
    {
     "name": "stdout",
     "output_type": "stream",
     "text": [
      "Numbers of Students: \t  4\n"
     ]
    }
   ],
   "source": [
    "print('Numbers of Students: \\t ',students.size)"
   ]
  },
  {
   "cell_type": "code",
   "execution_count": 36,
   "id": "6cba2262-ee1b-45d4-88a3-bdaabc4eb7e9",
   "metadata": {},
   "outputs": [
    {
     "name": "stdout",
     "output_type": "stream",
     "text": [
      "Data Type: \t  <U6\n"
     ]
    }
   ],
   "source": [
    "print('Data Type: \\t ',students.dtype)"
   ]
  },
  {
   "cell_type": "markdown",
   "id": "335274b4-546c-4920-9467-2b068529300a",
   "metadata": {},
   "source": [
    "## Mathematical Operations"
   ]
  },
  {
   "cell_type": "code",
   "execution_count": 37,
   "id": "731678ce-e4e8-45fb-89d1-bfc0bc003023",
   "metadata": {},
   "outputs": [
    {
     "name": "stdout",
     "output_type": "stream",
     "text": [
      "[10 20 30 40 50]\n"
     ]
    }
   ],
   "source": [
    "print(array1)"
   ]
  },
  {
   "cell_type": "code",
   "execution_count": 38,
   "id": "198d7ddc-f100-481b-aa10-20ef80dfa031",
   "metadata": {},
   "outputs": [],
   "source": [
    "total=sum(array1)"
   ]
  },
  {
   "cell_type": "code",
   "execution_count": 39,
   "id": "c06c1304-7984-4913-a9be-219201a2d546",
   "metadata": {},
   "outputs": [
    {
     "name": "stdout",
     "output_type": "stream",
     "text": [
      "150\n"
     ]
    }
   ],
   "source": [
    "print(total)"
   ]
  },
  {
   "cell_type": "code",
   "execution_count": 40,
   "id": "9ac63955-ba24-4d98-9cbb-17e375cf594a",
   "metadata": {},
   "outputs": [
    {
     "name": "stdout",
     "output_type": "stream",
     "text": [
      "Mean: \t  30.0\n"
     ]
    }
   ],
   "source": [
    "print('Mean: \\t ',np.mean(array1))"
   ]
  },
  {
   "cell_type": "code",
   "execution_count": 41,
   "id": "dbf631d3-e160-462e-ba08-b52d48c33600",
   "metadata": {},
   "outputs": [
    {
     "name": "stdout",
     "output_type": "stream",
     "text": [
      "Min: \t  10\n"
     ]
    }
   ],
   "source": [
    "print('Min: \\t ',np.min(array1))"
   ]
  },
  {
   "cell_type": "code",
   "execution_count": 42,
   "id": "222668a1-0507-4857-bd2c-8e5b6e7f0099",
   "metadata": {},
   "outputs": [
    {
     "name": "stdout",
     "output_type": "stream",
     "text": [
      "Max: \t  50\n"
     ]
    }
   ],
   "source": [
    "print('Max: \\t ',np.max(array1))"
   ]
  },
  {
   "cell_type": "code",
   "execution_count": 43,
   "id": "0ce9b845-6d8f-4a7d-97f1-ac113c5ee53c",
   "metadata": {},
   "outputs": [
    {
     "name": "stdout",
     "output_type": "stream",
     "text": [
      "Index of Min: \t  0\n"
     ]
    }
   ],
   "source": [
    "print('Index of Min: \\t ',np.argmin(array1))"
   ]
  },
  {
   "cell_type": "code",
   "execution_count": 45,
   "id": "46bbe640-d59d-47e4-87b6-5cd9e220985a",
   "metadata": {},
   "outputs": [
    {
     "name": "stdout",
     "output_type": "stream",
     "text": [
      "Index of Max: \t  4\n"
     ]
    }
   ],
   "source": [
    "print('Index of Max: \\t ',np.argmax(array1))"
   ]
  },
  {
   "cell_type": "code",
   "execution_count": 46,
   "id": "7064d62f-dc17-439c-9bf6-4fbafa54bb60",
   "metadata": {},
   "outputs": [],
   "source": [
    "our_arr=np.array([100,200,300,7000,400,500,300,1900,600])"
   ]
  },
  {
   "cell_type": "code",
   "execution_count": 47,
   "id": "ee54e974-4c5c-46d5-b52e-ccf06c667dbc",
   "metadata": {},
   "outputs": [
    {
     "name": "stdout",
     "output_type": "stream",
     "text": [
      "[ 100  200  300 7000  400  500  300 1900  600]\n"
     ]
    }
   ],
   "source": [
    "print(our_arr)"
   ]
  },
  {
   "cell_type": "markdown",
   "id": "8d5dec8d-2fd8-46ea-b2b6-9c28efc2e9ba",
   "metadata": {},
   "source": [
    "### Searching and Sorting Example in 1-Day Array"
   ]
  },
  {
   "cell_type": "code",
   "execution_count": 54,
   "id": "9af90181-78b3-4fbc-9ebf-fdd49fc299f9",
   "metadata": {},
   "outputs": [
    {
     "name": "stdout",
     "output_type": "stream",
     "text": [
      "***Sorted Array***\n",
      "[ 100  200  300  300  400  500  600 1900 7000]\n"
     ]
    }
   ],
   "source": [
    "sorted_array=np.sort(our_arr)\n",
    "print('***Sorted Array***')\n",
    "print(sorted_array)"
   ]
  },
  {
   "cell_type": "code",
   "execution_count": 55,
   "id": "119be7ba-863f-4226-97cb-7645e2850276",
   "metadata": {},
   "outputs": [
    {
     "name": "stdout",
     "output_type": "stream",
     "text": [
      "Is there any item > 500?: \t  True\n"
     ]
    }
   ],
   "source": [
    "print('Is there any item > 500?: \\t ',np.any(sorted_array>500))"
   ]
  },
  {
   "cell_type": "code",
   "execution_count": 56,
   "id": "24dbd3b5-6d1e-4ed3-8714-67a1be84fe63",
   "metadata": {},
   "outputs": [
    {
     "name": "stdout",
     "output_type": "stream",
     "text": [
      "All > 99 ?: \t  True\n"
     ]
    }
   ],
   "source": [
    "print('All > 99 ?: \\t ',np.all(sorted_array>99))"
   ]
  },
  {
   "cell_type": "code",
   "execution_count": 57,
   "id": "ed877bad-9479-444b-9077-a49abf40d455",
   "metadata": {},
   "outputs": [
    {
     "name": "stdout",
     "output_type": "stream",
     "text": [
      "All > 500 ?: \t  False\n"
     ]
    }
   ],
   "source": [
    "print('All > 500 ?: \\t ',np.all(sorted_array>500))"
   ]
  },
  {
   "cell_type": "code",
   "execution_count": 58,
   "id": "43166599-ceba-4592-9c08-add987096287",
   "metadata": {},
   "outputs": [
    {
     "name": "stdout",
     "output_type": "stream",
     "text": [
      "Where Values > 500 ?: \t  (array([6, 7, 8]),)\n"
     ]
    }
   ],
   "source": [
    "print('Where Values > 500 ?: \\t ',np.where(sorted_array>500))"
   ]
  },
  {
   "cell_type": "code",
   "execution_count": 59,
   "id": "f0f82f82-e0da-4b83-9962-9557767354fd",
   "metadata": {},
   "outputs": [
    {
     "name": "stdout",
     "output_type": "stream",
     "text": [
      "All Numbers > 500: \t \n",
      "[6 7 8]\n"
     ]
    }
   ],
   "source": [
    "print('All Numbers > 500: \\t ')\n",
    "for num in np.where(sorted_array>500):\n",
    "    print(num)"
   ]
  },
  {
   "cell_type": "code",
   "execution_count": 61,
   "id": "99bcef62-8728-45ec-aa9a-66121ec07cdc",
   "metadata": {},
   "outputs": [
    {
     "name": "stdout",
     "output_type": "stream",
     "text": [
      "[ 100  200  300 7000  400  500  300 1900  600]\n"
     ]
    }
   ],
   "source": [
    "print(our_arr)"
   ]
  },
  {
   "cell_type": "code",
   "execution_count": 62,
   "id": "70ec51a0-3695-4cc5-afd9-a7357b1fc43f",
   "metadata": {},
   "outputs": [
    {
     "name": "stdout",
     "output_type": "stream",
     "text": [
      "100\n"
     ]
    }
   ],
   "source": [
    "print(min(our_arr))"
   ]
  },
  {
   "cell_type": "code",
   "execution_count": 65,
   "id": "53ec1acd-f5fe-47f8-a851-a2b7e37614e4",
   "metadata": {},
   "outputs": [
    {
     "name": "stdout",
     "output_type": "stream",
     "text": [
      "Index of Min: \t  0\n"
     ]
    }
   ],
   "source": [
    "print('Index of Min: \\t ',np.argmin(our_arr))"
   ]
  },
  {
   "cell_type": "code",
   "execution_count": 66,
   "id": "b8ab8eb5-ceae-480c-945c-80e560c96b1b",
   "metadata": {},
   "outputs": [
    {
     "name": "stdout",
     "output_type": "stream",
     "text": [
      "Index of Max: \t  3\n"
     ]
    }
   ],
   "source": [
    "print('Index of Max: \\t ',np.argmax(our_arr))"
   ]
  },
  {
   "cell_type": "code",
   "execution_count": 68,
   "id": "f847fa29-8e09-486e-afba-fb105a16c63b",
   "metadata": {},
   "outputs": [
    {
     "name": "stdout",
     "output_type": "stream",
     "text": [
      "All Numbers > 500: \t \n",
      "False\n",
      "False\n",
      "False\n",
      "False\n",
      "False\n",
      "False\n",
      "True\n",
      "True\n",
      "True\n"
     ]
    }
   ],
   "source": [
    "print('All Numbers > 500: \\t ')\n",
    "for num in sorted_array>500:\n",
    "    print(num)"
   ]
  },
  {
   "cell_type": "code",
   "execution_count": 70,
   "id": "f9ffa87f-39aa-4cf5-938b-96cb0774a880",
   "metadata": {},
   "outputs": [],
   "source": [
    "selected_values=sorted_array[sorted_array>500]"
   ]
  },
  {
   "cell_type": "code",
   "execution_count": 71,
   "id": "0246f271-5611-43ea-9efa-cf421cb3c2c5",
   "metadata": {},
   "outputs": [
    {
     "name": "stdout",
     "output_type": "stream",
     "text": [
      "[ 600 1900 7000]\n"
     ]
    }
   ],
   "source": [
    "print(selected_values)"
   ]
  },
  {
   "cell_type": "code",
   "execution_count": 72,
   "id": "4179b3b7-e7b8-4e99-a36e-a90bf02aac52",
   "metadata": {},
   "outputs": [
    {
     "name": "stdout",
     "output_type": "stream",
     "text": [
      "600\n",
      "1900\n",
      "7000\n"
     ]
    }
   ],
   "source": [
    "for num in selected_values:\n",
    "    print(num)"
   ]
  },
  {
   "cell_type": "markdown",
   "id": "431b58a8-1abe-4bd0-9751-95d55fc99f28",
   "metadata": {},
   "source": [
    "## Slicing (1-D) Array\n",
    "   1. To take Elements from Starting Index to End Index\n",
    "   2. e.g. [started:end] "
   ]
  },
  {
   "cell_type": "code",
   "execution_count": 77,
   "id": "0d14917f-429e-4dda-a614-0dd963bdaddf",
   "metadata": {},
   "outputs": [
    {
     "name": "stdout",
     "output_type": "stream",
     "text": [
      "[ 100  200  300  300  400  500  600 1900 7000]\n"
     ]
    }
   ],
   "source": [
    "print(sorted_array)"
   ]
  },
  {
   "cell_type": "code",
   "execution_count": 79,
   "id": "a463a6af-7da3-47fa-8c7e-346772064a85",
   "metadata": {},
   "outputs": [
    {
     "name": "stdout",
     "output_type": "stream",
     "text": [
      "[200 300]\n"
     ]
    }
   ],
   "source": [
    "slice_sorted_array=sorted_array[1:3]\n",
    "print(slice_sorted_array)"
   ]
  },
  {
   "cell_type": "markdown",
   "id": "beb5f371-be4c-4326-84d0-37a741f5fb0c",
   "metadata": {},
   "source": [
    "### Starting from An Index and Going till Last"
   ]
  },
  {
   "cell_type": "code",
   "execution_count": 80,
   "id": "c9c179de-e535-40b7-87e3-af1cb99491f6",
   "metadata": {},
   "outputs": [
    {
     "name": "stdout",
     "output_type": "stream",
     "text": [
      "[ 300  400  500  600 1900 7000]\n"
     ]
    }
   ],
   "source": [
    "print(sorted_array[3:])"
   ]
  },
  {
   "cell_type": "code",
   "execution_count": 83,
   "id": "f8046b23-0870-42ea-ba46-6e669d082359",
   "metadata": {},
   "outputs": [
    {
     "name": "stdout",
     "output_type": "stream",
     "text": [
      "[100 200 300 300]\n"
     ]
    }
   ],
   "source": [
    "print(sorted_array[:4])"
   ]
  },
  {
   "cell_type": "code",
   "execution_count": 82,
   "id": "df6cea21-e184-47da-b253-a3e1e26c4baa",
   "metadata": {},
   "outputs": [
    {
     "name": "stdout",
     "output_type": "stream",
     "text": [
      "[100 200 300 300 400]\n"
     ]
    }
   ],
   "source": [
    "print(sorted_array[:5])"
   ]
  },
  {
   "cell_type": "markdown",
   "id": "defadebe-a4b5-4348-a73d-01304248a723",
   "metadata": {},
   "source": [
    "### Step\n",
    "    ### [start:end:step]\n",
    "    ### step: every step element"
   ]
  },
  {
   "cell_type": "code",
   "execution_count": 84,
   "id": "4a4eb04f-4880-4808-b15d-35c21eaa380b",
   "metadata": {},
   "outputs": [
    {
     "name": "stdout",
     "output_type": "stream",
     "text": [
      "[200 300 500]\n"
     ]
    }
   ],
   "source": [
    "our_slice=sorted_array[1:6:2]\n",
    "print(our_slice)"
   ]
  },
  {
   "cell_type": "code",
   "execution_count": 86,
   "id": "c28e55dd-d78e-4a4e-81aa-b54b34fdc0ea",
   "metadata": {},
   "outputs": [
    {
     "name": "stdout",
     "output_type": "stream",
     "text": [
      "Original Array\n",
      "[ 100  200  300  300  400  500  600 1900 7000]\n",
      "\n",
      "Every Third Element\n",
      "[100 300 600]\n"
     ]
    }
   ],
   "source": [
    "print('Original Array')\n",
    "print(sorted_array)\n",
    "print()\n",
    "print('Every Third Element')\n",
    "every_third_element=sorted_array[::3]\n",
    "print(every_third_element)"
   ]
  },
  {
   "cell_type": "markdown",
   "id": "b65a1b54-d489-4929-a89d-0c34247b08e1",
   "metadata": {},
   "source": [
    "### Slice Reverse"
   ]
  },
  {
   "cell_type": "code",
   "execution_count": 87,
   "id": "0e27a5f3-8190-468f-9af7-a841745e9351",
   "metadata": {},
   "outputs": [
    {
     "name": "stdout",
     "output_type": "stream",
     "text": [
      "Original Array\n",
      "[ 100  200  300  300  400  500  600 1900 7000]\n",
      "\n",
      "Revers Array: \t  [7000 1900  600  500  400  300  300  200  100]\n"
     ]
    }
   ],
   "source": [
    "print('Original Array')\n",
    "print(sorted_array)\n",
    "print()\n",
    "print('Revers Array: \\t ',sorted_array[::-1])"
   ]
  },
  {
   "cell_type": "code",
   "execution_count": 88,
   "id": "33d1ef6e-26fc-48cd-96d1-29c31b557555",
   "metadata": {},
   "outputs": [
    {
     "name": "stdout",
     "output_type": "stream",
     "text": [
      "Last 5 Elements\n",
      "[7000  300]\n"
     ]
    }
   ],
   "source": [
    "print('Last 5 Elements')\n",
    "print(sorted_array[::-5])"
   ]
  },
  {
   "cell_type": "code",
   "execution_count": null,
   "id": "b76c28e4-c8e8-4194-a114-db2da72ca55d",
   "metadata": {},
   "outputs": [],
   "source": []
  }
 ],
 "metadata": {
  "kernelspec": {
   "display_name": "Python 3 (ipykernel)",
   "language": "python",
   "name": "python3"
  },
  "language_info": {
   "codemirror_mode": {
    "name": "ipython",
    "version": 3
   },
   "file_extension": ".py",
   "mimetype": "text/x-python",
   "name": "python",
   "nbconvert_exporter": "python",
   "pygments_lexer": "ipython3",
   "version": "3.13.5"
  }
 },
 "nbformat": 4,
 "nbformat_minor": 5
}
